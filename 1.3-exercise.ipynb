{
 "cells": [
  {
   "cell_type": "markdown",
   "id": "f543e958-a291-4423-929e-0b6541076fb3",
   "metadata": {},
   "source": [
    "# Tabular Data Formats: Exercise"
   ]
  },
  {
   "cell_type": "markdown",
   "id": "b6f686e2-3fa3-411d-ad9e-8bbbdf8fad72",
   "metadata": {},
   "source": [
    "<font color=\"darkcyan\">None of the exercises in this course depend on using any specific programming language. However, the examples I show are all Python, so it's probably best to use that if you can.  You might complete this exercise within this Jupyter notebook, but you may use other tools on your computer if those are more comfortable for you.</font>"
   ]
  },
  {
   "cell_type": "markdown",
   "id": "c3f6ab49-fbdf-4d5a-9da1-8ef9ceaa3e09",
   "metadata": {},
   "source": [
    "The toy tabular data on students discussed at the start is available at:\n",
    "\n",
    "> https://www.gnosis.cx/cleaning/students.csv"
   ]
  },
  {
   "cell_type": "markdown",
   "id": "787420a9-1ac0-44b3-92ce-8d1eaaec50e1",
   "metadata": {},
   "source": [
    "Create a cleaned up version of the data.\n",
    "\n",
    "* Consistent doubled commas should be read as a single delimiter.\n",
    "* Missing data in the *Favorite Color* field should be substituted with the string `<missing>`.\n",
    "* Student ages should be between 9 and 14, and all other values are considered missing data. \n",
    "* Some colors are numerically coded, but should be unaliased.  The mapping is:\n",
    "\n",
    "| Number | Color    | * | Number | Color\n",
    "|:------:|:---------|:-:|:------:|----------\n",
    "| 1      | beige    |   | 6      | alabaster\n",
    "| 2      | eggshell |   | 7      | sandcastle\n",
    "| 3      | seafoam  |   | 8      | chartreuse\n",
    "| 4      | mint     |   | 9      | sepia\n",
    "| 5      | cream    |   | 10     | lemon\n",
    "\n",
    "Using this small test data set is a good way to test your code.  But try also manually adding more rows with similar, or different, problems in them, and see how well your code produces a reasonable result."
   ]
  },
  {
   "cell_type": "markdown",
   "id": "5242b9ef-0de2-40da-8ed8-bc33569505f3",
   "metadata": {},
   "source": [
    "Ideally, when you cleanup this data, you will also have in mind independent vs. dependent variables.  In Pandas specifically, this distinction is often emphasized by index vs. non-index columns.  For example:"
   ]
  },
  {
   "cell_type": "code",
   "execution_count": null,
   "id": "016412a4-f572-49da-8916-67d3d5be97ba",
   "metadata": {},
   "outputs": [],
   "source": [
    "from pickle import load\n",
    "load(open('data/students.pkl', 'rb'))"
   ]
  }
 ],
 "metadata": {
  "kernelspec": {
   "display_name": "Python 3 (ipykernel)",
   "language": "python",
   "name": "python3"
  },
  "language_info": {
   "codemirror_mode": {
    "name": "ipython",
    "version": 3
   },
   "file_extension": ".py",
   "mimetype": "text/x-python",
   "name": "python",
   "nbconvert_exporter": "python",
   "pygments_lexer": "ipython3",
   "version": "3.10.4"
  }
 },
 "nbformat": 4,
 "nbformat_minor": 5
}
