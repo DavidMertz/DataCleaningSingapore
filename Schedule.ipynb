{
 "cells": [
  {
   "cell_type": "markdown",
   "id": "9ef1c7d6-4235-4ee3-bf96-cf0ded1e48fa",
   "metadata": {},
   "source": [
    "Cleaning Data for Effective Data Science\n",
    "========================================\n",
    "\n",
    "Doing the Other 80% of the Work\n",
    "-------------------------------\n",
    "\n",
    "* A course by David Mertz, Ph.D.\n",
    "* Sponsored by Juniper Insights\n",
    "* 5-6 October, 2022, Singapore"
   ]
  },
  {
   "cell_type": "markdown",
   "id": "f5ad94de-61a3-47b0-96d4-89fe5a3be655",
   "metadata": {},
   "source": [
    "Day 1\n",
    "-----\n",
    "\n",
    "08:30 **Registration**"
   ]
  },
  {
   "cell_type": "markdown",
   "id": "356501b1-95ac-4910-862e-9df2e17de6dc",
   "metadata": {},
   "source": [
    "08:45 **Tabular Data Formats**\n",
    "\n",
    "**Tidying up**: Tidy data carefully separates variables\n",
    "(columns/features) from observations (rows/samples). At the intersection\n",
    "of these two, we find values, i.e. datum. Unfortunately, the data we\n",
    "encounter is often not arranged in this useful way, and it requires\n",
    "*normalization*."
   ]
  },
  {
   "cell_type": "markdown",
   "id": "10a83541-921d-44cf-80b3-0d7df88a03da",
   "metadata": {},
   "source": [
    "**Comma separated values**: Delimited text files are ubiquitous. These\n",
    "text files put multiple values on each line, and separate those values\n",
    "with some character, such as a comma. They are almost always the\n",
    "exchange format used to transport data between other tabular\n",
    "representations, and much data both starts and ends life as CSV."
   ]
  },
  {
   "cell_type": "markdown",
   "id": "a34db65b-49ee-4a5c-beb7-586ef9d4e9c1",
   "metadata": {},
   "source": [
    "**Exercise**: Cleanup the toy tabular data in students.csv. Either \"by hand\"\n",
    "in a text editor and/or using Python, fix the formatting and data\n",
    "issues."
   ]
  },
  {
   "cell_type": "markdown",
   "id": "8e1a685f-0070-4b93-84fc-c695400fe4eb",
   "metadata": {},
   "source": [
    "10:15 **Coffee break**"
   ]
  },
  {
   "cell_type": "markdown",
   "id": "3ce4845c-b5d2-44d2-b426-5198588a50c5",
   "metadata": {},
   "source": [
    "10:30 **Working with Data**\n",
    "\n",
    "**Spreadsheets considered harmful**: Spreadsheets in general, and Excel\n",
    "in particular, are anathema to effective data science. A great share of\n",
    "the world\\'s data lives in Excel spreadsheets, which engender special\n",
    "types of corruption."
   ]
  },
  {
   "cell_type": "markdown",
   "id": "b5a42189-0034-44aa-819e-a22d12c7c4dd",
   "metadata": {},
   "source": [
    "**Relational databases management systems** use strict column typing and\n",
    "frequent use of formal foreign keys and constraints, and are hence a\n",
    "boon for data science. Even somewhat informally assembled databases have\n",
    "many desirable properties, even if not well normalized. Not all\n",
    "relational databases are *tidy*, but they all take you several large\n",
    "steps in that direction."
   ]
  },
  {
   "cell_type": "markdown",
   "id": "4682fcb4-8e1e-4936-84c2-47a025fee93b",
   "metadata": {},
   "source": [
    "**Dataframes**: Many libraries across almost as many programming\n",
    "languages support the *data frame* abstraction. Most data scientists\n",
    "prefer this style of processing data. Data frames allow an easy\n",
    "expression of filtering, grouping, aggregation, sorting, and vectorized\n",
    "function application."
   ]
  },
  {
   "cell_type": "markdown",
   "id": "7ce190cf-e29d-4c2f-93da-71f8ce6d8d7a",
   "metadata": {},
   "source": [
    "**Introduction to anomaly detection**: Data goes bad in the ordinary\n",
    "course of its collection, collation, transmission, and transcription.\n",
    "Perhaps an instrument gives a bad reading. Perhaps some values are\n",
    "systematically altered in the course of re-encoding to a different data\n",
    "format. Perhaps the wrong units of measure were used for a subset of the\n",
    "data."
   ]
  },
  {
   "cell_type": "markdown",
   "id": "858fe7f2-9a0c-4fc1-80fe-09fdacbb483b",
   "metadata": {},
   "source": [
    "**Exercise**: Cleanup the sample data in Film\\_Awards.xlsx to produce a tidy\n",
    "Pandas DataFrame. Even though the data set is small enough to type by\n",
    "hand, use Python/Pandas programming techniques to perform the cleanup\n",
    "and reorganization.\n",
    "\n",
    "13:00 **Lunch break**\n",
    "\n",
    "14:00 **Anomaly Detection**\n",
    "\n",
    "**Missing data and sentinels**: In textual data formats missing data is\n",
    "indicated either by absence or by a sentinel. Use of sentinels is not\n",
    "limited to text formats. Often in SQL, for example, TEXT or CHAR columns\n",
    "that could use NULL to indicate missing values instead contain\n",
    "sentinels.\n",
    "\n",
    "15:30: **Coffee break**\n",
    "\n",
    "15:45 **Anomaly Detection**\n",
    "\n",
    "**Miscoded data** is often categorical data. Ordinal data might be\n",
    "included too inasmuch as it has known bounds. For example, if a ranking\n",
    "scale is specified as ranging from 1 to 10, any values outside of that\n",
    "numeric range must be miscoded in some manner.\n",
    "\n",
    "**Fixed bounds**: Based on our domain knowledge of the problem and data\n",
    "set, we may know of fixed bounds for particular variables. The tallest\n",
    "human who has lived was Robert Pershing Wadlow at 271㎝ ; the shortest\n",
    "was Chandra Bahadur Dangi at 55㎝ . Values outside this range are\n",
    "probably unreasonable.\n",
    "\n",
    "**Exercise**: Use the sample data in humans-names.csv and attempt to\n",
    "identify likely data entry errors among the 25,000 rows of data.\n",
    "\n",
    "17:00 **Day ends**"
   ]
  },
  {
   "cell_type": "markdown",
   "id": "548eaa06-5102-4f27-b510-3bdebdab1799",
   "metadata": {},
   "source": [
    "Day 2\n",
    "-----\n",
    "\n",
    "08:30 **Registration**\n",
    "\n",
    "08:45 **Anomaly Detection**\n",
    "\n",
    "**Outliers**: Values may fall within normative ranges, nonetheless be\n",
    "strongly uncharacteristic. The standard ways to characterize the\n",
    "expectedness of a value are measures called z-score and inter-quartile\n",
    "range.\n",
    "\n",
    "**Multivariate outliers**: Sometimes univariate features can fall within\n",
    "relatively moderate z-score boundaries, and yet combinations of those\n",
    "features are unlikely or unreasonable.\n",
    "\n",
    "Exercise: Use the small and famous Michelson-Morley data set morley.dat\n",
    "to identify outliers that are likely to be inaccurate or unreliable\n",
    "data. As with many real-world problems, you will first need to determine\n",
    "how to parse the data at all before doing statistical analysis.\n",
    "\n",
    "10:15 **Coffee break**\n",
    "\n",
    "10:30 **Data Quality**\n",
    "\n",
    "**Missing Data**: When a record has missing data, you have three\n",
    "choices.\n",
    "\n",
    "1.  discard that particular record\n",
    "2.  impute some value(s) for the missing field.\n",
    "3.  decide that because of the amount or distribution of missing data,\n",
    "    the data is simply not usable for the purpose at hand.\n",
    "\n",
    "**Biasing trends**: When you detect a sample bias within your data you\n",
    "need to make a domain area judgment about its significance.\n",
    "\n",
    "1.  The distribution of observations is unrepresentative of the\n",
    "    underlying domain.\n",
    "2.  The data themselves may reveal a bias by trends that exist between\n",
    "    multiple variables. This could be a phenomenon you have detected in\n",
    "    the data, or could be a collection or curation artifact.\n",
    "\n",
    "**Normalization and scaling**: Normalization of data is simply bringing\n",
    "all the features being utilized in a data set into comparable numeric\n",
    "ranges. This often improves the quality of models based on that data.\n",
    "\n",
    "**Cyclicity and autocorrelation**: Sometimes you expect your data to\n",
    "have periodic behavior. In such cases---especially when multiple\n",
    "overlapping cyclicities exist within sequential data---the deviations\n",
    "from the cyclical patterns can be more informative than the raw values.\n",
    "Most frequently we see this in association with time series data.\n",
    "\n",
    "Exercise: Using the \"Brad's House\" temperature data used the lesson to\n",
    "read all data into a Pandas DataFrame, then, characterize each\n",
    "observation as \"regular,\" \"interesting,\" \"missing,\" or \"data error.\"\n",
    "\n",
    "13:00 **Lunch break**\n",
    "\n",
    "14:00 **Value imputation**\n",
    "\n",
    "**Typical value imputation**: Pretty much the simplest thing we can do\n",
    "is assume a missing value is similar to the general trend for that same\n",
    "feature. In some cases, domain knowledge informs us as to what a\n",
    "reasonable default is. The existing data can also provide guidance for\n",
    "imputation.\n",
    "\n",
    "**Locality imputation**: In a time series, the measurement taken at one\n",
    "particular minute is \\\"local\\\" to the measurement taken at the next\n",
    "minute. Locality in general, however, is not specifically about\n",
    "sequence. In a parameter space, including physical space, locality might\n",
    "be \\\"closeness\\\" in that space. Imputing values based on nearby values\n",
    "is often a reasonable way of filling in data we do not actually have.\n",
    "\n",
    "**Sampling** is modification of a data set in order to rebalance it in\n",
    "some manner. An imbalance can reflect **either** the data collection\n",
    "techniques used **or** the underlying pattern of the phenomenon you are\n",
    "measuring.\n",
    "\n",
    "Exercise: Use the data set height-weight-color.csv that purports to\n",
    "observe the named features of numerous humans, and generate several\n",
    "synthetic features that may be useful for future predictive models.\n",
    "\n",
    "15:30: **Coffee break**\n",
    "\n",
    "15:45 **Value imputation**\n",
    "\n",
    "**Trend imputation**: The most common type of trend that data scientists\n",
    "use for imputation is with time series data. Missing observations are\n",
    "likely similar those nearby. Approaches to trend imputation include\n",
    "forward fill, backward fill, local regression, time-sensitive\n",
    "regression, non-local regression, and correlational imputation.\n",
    "\n",
    "**Exercise**: Use several different value imputation techniques on the\n",
    "fictional excited-kryptonite.fwf data set used in lessons, and analyze\n",
    "how much different are the imputations made by these several techniques.\n",
    "\n",
    "17:00 **Day ends**"
   ]
  },
  {
   "cell_type": "code",
   "execution_count": null,
   "id": "d2913e84-6620-46a5-a53f-bb56c4845273",
   "metadata": {},
   "outputs": [],
   "source": []
  }
 ],
 "metadata": {
  "kernelspec": {
   "display_name": "Python 3 (ipykernel)",
   "language": "python",
   "name": "python3"
  },
  "language_info": {
   "codemirror_mode": {
    "name": "ipython",
    "version": 3
   },
   "file_extension": ".py",
   "mimetype": "text/x-python",
   "name": "python",
   "nbconvert_exporter": "python",
   "pygments_lexer": "ipython3",
   "version": "3.10.4"
  }
 },
 "nbformat": 4,
 "nbformat_minor": 5
}
